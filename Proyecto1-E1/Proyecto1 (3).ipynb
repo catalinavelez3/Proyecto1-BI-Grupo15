{
  "cells": [
    {
      "cell_type": "markdown",
      "metadata": {
        "tags": [],
        "id": "rkwT356JR4iE"
      },
      "source": [
        "# Proyecto 1 Etapa 1\n",
        "\n",
        "Integrantes:\n",
        "* Catalina Velez\n",
        "* Andrés Perez\n",
        "* Luciana Bacci"
      ]
    },
    {
      "cell_type": "markdown",
      "metadata": {
        "tags": [],
        "id": "c_KjQSovR4iE"
      },
      "source": [
        "# 1. Preprocesamiento y análisis de datos\n",
        "Instalación de spaCy y Modelos de lenguaje"
      ]
    },
    {
      "cell_type": "markdown",
      "metadata": {
        "id": "hkQ5rxz1R4iH"
      },
      "source": [
        "## Carga"
      ]
    },
    {
      "cell_type": "code",
      "execution_count": null,
      "metadata": {
        "tags": [],
        "colab": {
          "base_uri": "https://localhost:8080/"
        },
        "id": "4B61iz14R4iI",
        "outputId": "32238d57-a039-47d0-d4b3-4757be304b42"
      },
      "outputs": [
        {
          "output_type": "stream",
          "name": "stdout",
          "text": [
            "Requirement already satisfied: spacy in /usr/local/lib/python3.12/dist-packages (3.8.7)\n",
            "Requirement already satisfied: spacy-legacy<3.1.0,>=3.0.11 in /usr/local/lib/python3.12/dist-packages (from spacy) (3.0.12)\n",
            "Requirement already satisfied: spacy-loggers<2.0.0,>=1.0.0 in /usr/local/lib/python3.12/dist-packages (from spacy) (1.0.5)\n",
            "Requirement already satisfied: murmurhash<1.1.0,>=0.28.0 in /usr/local/lib/python3.12/dist-packages (from spacy) (1.0.13)\n",
            "Requirement already satisfied: cymem<2.1.0,>=2.0.2 in /usr/local/lib/python3.12/dist-packages (from spacy) (2.0.11)\n",
            "Requirement already satisfied: preshed<3.1.0,>=3.0.2 in /usr/local/lib/python3.12/dist-packages (from spacy) (3.0.10)\n",
            "Requirement already satisfied: thinc<8.4.0,>=8.3.4 in /usr/local/lib/python3.12/dist-packages (from spacy) (8.3.6)\n",
            "Requirement already satisfied: wasabi<1.2.0,>=0.9.1 in /usr/local/lib/python3.12/dist-packages (from spacy) (1.1.3)\n",
            "Requirement already satisfied: srsly<3.0.0,>=2.4.3 in /usr/local/lib/python3.12/dist-packages (from spacy) (2.5.1)\n",
            "Requirement already satisfied: catalogue<2.1.0,>=2.0.6 in /usr/local/lib/python3.12/dist-packages (from spacy) (2.0.10)\n",
            "Requirement already satisfied: weasel<0.5.0,>=0.1.0 in /usr/local/lib/python3.12/dist-packages (from spacy) (0.4.1)\n",
            "Requirement already satisfied: typer<1.0.0,>=0.3.0 in /usr/local/lib/python3.12/dist-packages (from spacy) (0.17.3)\n",
            "Requirement already satisfied: tqdm<5.0.0,>=4.38.0 in /usr/local/lib/python3.12/dist-packages (from spacy) (4.67.1)\n",
            "Requirement already satisfied: numpy>=1.19.0 in /usr/local/lib/python3.12/dist-packages (from spacy) (2.0.2)\n",
            "Requirement already satisfied: requests<3.0.0,>=2.13.0 in /usr/local/lib/python3.12/dist-packages (from spacy) (2.32.4)\n",
            "Requirement already satisfied: pydantic!=1.8,!=1.8.1,<3.0.0,>=1.7.4 in /usr/local/lib/python3.12/dist-packages (from spacy) (2.11.7)\n",
            "Requirement already satisfied: jinja2 in /usr/local/lib/python3.12/dist-packages (from spacy) (3.1.6)\n",
            "Requirement already satisfied: setuptools in /usr/local/lib/python3.12/dist-packages (from spacy) (75.2.0)\n",
            "Requirement already satisfied: packaging>=20.0 in /usr/local/lib/python3.12/dist-packages (from spacy) (25.0)\n",
            "Requirement already satisfied: langcodes<4.0.0,>=3.2.0 in /usr/local/lib/python3.12/dist-packages (from spacy) (3.5.0)\n",
            "Requirement already satisfied: language-data>=1.2 in /usr/local/lib/python3.12/dist-packages (from langcodes<4.0.0,>=3.2.0->spacy) (1.3.0)\n",
            "Requirement already satisfied: annotated-types>=0.6.0 in /usr/local/lib/python3.12/dist-packages (from pydantic!=1.8,!=1.8.1,<3.0.0,>=1.7.4->spacy) (0.7.0)\n",
            "Requirement already satisfied: pydantic-core==2.33.2 in /usr/local/lib/python3.12/dist-packages (from pydantic!=1.8,!=1.8.1,<3.0.0,>=1.7.4->spacy) (2.33.2)\n",
            "Requirement already satisfied: typing-extensions>=4.12.2 in /usr/local/lib/python3.12/dist-packages (from pydantic!=1.8,!=1.8.1,<3.0.0,>=1.7.4->spacy) (4.15.0)\n",
            "Requirement already satisfied: typing-inspection>=0.4.0 in /usr/local/lib/python3.12/dist-packages (from pydantic!=1.8,!=1.8.1,<3.0.0,>=1.7.4->spacy) (0.4.1)\n",
            "Requirement already satisfied: charset_normalizer<4,>=2 in /usr/local/lib/python3.12/dist-packages (from requests<3.0.0,>=2.13.0->spacy) (3.4.3)\n",
            "Requirement already satisfied: idna<4,>=2.5 in /usr/local/lib/python3.12/dist-packages (from requests<3.0.0,>=2.13.0->spacy) (3.10)\n",
            "Requirement already satisfied: urllib3<3,>=1.21.1 in /usr/local/lib/python3.12/dist-packages (from requests<3.0.0,>=2.13.0->spacy) (2.5.0)\n",
            "Requirement already satisfied: certifi>=2017.4.17 in /usr/local/lib/python3.12/dist-packages (from requests<3.0.0,>=2.13.0->spacy) (2025.8.3)\n",
            "Requirement already satisfied: blis<1.4.0,>=1.3.0 in /usr/local/lib/python3.12/dist-packages (from thinc<8.4.0,>=8.3.4->spacy) (1.3.0)\n",
            "Requirement already satisfied: confection<1.0.0,>=0.0.1 in /usr/local/lib/python3.12/dist-packages (from thinc<8.4.0,>=8.3.4->spacy) (0.1.5)\n",
            "Requirement already satisfied: click>=8.0.0 in /usr/local/lib/python3.12/dist-packages (from typer<1.0.0,>=0.3.0->spacy) (8.2.1)\n",
            "Requirement already satisfied: shellingham>=1.3.0 in /usr/local/lib/python3.12/dist-packages (from typer<1.0.0,>=0.3.0->spacy) (1.5.4)\n",
            "Requirement already satisfied: rich>=10.11.0 in /usr/local/lib/python3.12/dist-packages (from typer<1.0.0,>=0.3.0->spacy) (13.9.4)\n",
            "Requirement already satisfied: cloudpathlib<1.0.0,>=0.7.0 in /usr/local/lib/python3.12/dist-packages (from weasel<0.5.0,>=0.1.0->spacy) (0.22.0)\n",
            "Requirement already satisfied: smart-open<8.0.0,>=5.2.1 in /usr/local/lib/python3.12/dist-packages (from weasel<0.5.0,>=0.1.0->spacy) (7.3.0.post1)\n",
            "Requirement already satisfied: MarkupSafe>=2.0 in /usr/local/lib/python3.12/dist-packages (from jinja2->spacy) (3.0.2)\n",
            "Requirement already satisfied: marisa-trie>=1.1.0 in /usr/local/lib/python3.12/dist-packages (from language-data>=1.2->langcodes<4.0.0,>=3.2.0->spacy) (1.3.1)\n",
            "Requirement already satisfied: markdown-it-py>=2.2.0 in /usr/local/lib/python3.12/dist-packages (from rich>=10.11.0->typer<1.0.0,>=0.3.0->spacy) (4.0.0)\n",
            "Requirement already satisfied: pygments<3.0.0,>=2.13.0 in /usr/local/lib/python3.12/dist-packages (from rich>=10.11.0->typer<1.0.0,>=0.3.0->spacy) (2.19.2)\n",
            "Requirement already satisfied: wrapt in /usr/local/lib/python3.12/dist-packages (from smart-open<8.0.0,>=5.2.1->weasel<0.5.0,>=0.1.0->spacy) (1.17.3)\n",
            "Requirement already satisfied: mdurl~=0.1 in /usr/local/lib/python3.12/dist-packages (from markdown-it-py>=2.2.0->rich>=10.11.0->typer<1.0.0,>=0.3.0->spacy) (0.1.2)\n",
            "Collecting es-core-news-md==3.8.0\n",
            "  Downloading https://github.com/explosion/spacy-models/releases/download/es_core_news_md-3.8.0/es_core_news_md-3.8.0-py3-none-any.whl (42.3 MB)\n",
            "\u001b[2K     \u001b[90m━━━━━━━━━━━━━━━━━━━━━━━━━━━━━━━━━━━━━━━━\u001b[0m \u001b[32m42.3/42.3 MB\u001b[0m \u001b[31m15.1 MB/s\u001b[0m eta \u001b[36m0:00:00\u001b[0m\n",
            "\u001b[?25hInstalling collected packages: es-core-news-md\n",
            "Successfully installed es-core-news-md-3.8.0\n",
            "\u001b[38;5;2m✔ Download and installation successful\u001b[0m\n",
            "You can now load the package via spacy.load('es_core_news_md')\n",
            "\u001b[38;5;3m⚠ Restart to reload dependencies\u001b[0m\n",
            "If you are in a Jupyter or Colab notebook, you may need to restart Python in\n",
            "order to load all the package's dependencies. You can do this by selecting the\n",
            "'Restart kernel' or 'Restart runtime' option.\n"
          ]
        }
      ],
      "source": [
        "!pip install spacy\n",
        "!python -m spacy download es_core_news_md"
      ]
    },
    {
      "cell_type": "markdown",
      "metadata": {
        "id": "Y0fDxSbDSqv9"
      },
      "source": [
        "## Importacion de librerias"
      ]
    },
    {
      "cell_type": "code",
      "source": [
        "from sklearn.tree import DecisionTreeClassifier\n",
        "from sklearn.model_selection import train_test_split, KFold, GridSearchCV\n",
        "from sklearn.metrics import classification_report, ConfusionMatrixDisplay, confusion_matrix, accuracy_score, recall_score, precision_score, f1_score\n",
        "import matplotlib.pyplot as plt\n",
        "from sklearn import tree\n",
        "from sklearn.naive_bayes import MultinomialNB\n",
        "from sklearn.pipeline import Pipeline\n",
        "from sklearn.compose import ColumnTransformer\n",
        "from sklearn.preprocessing import  OneHotEncoder\n",
        "from sklearn.base import BaseEstimator, TransformerMixin\n",
        "import joblib"
      ],
      "metadata": {
        "id": "DPKYw3VJSzW6"
      },
      "execution_count": null,
      "outputs": []
    },
    {
      "cell_type": "markdown",
      "source": [
        "### Carga del modelo de lenguaje"
      ],
      "metadata": {
        "id": "4axiLyCKTIqX"
      }
    },
    {
      "cell_type": "code",
      "source": [
        "import spacy\n",
        "nlp = spacy.load(\"es_core_news_md\") #Modelo de lenguaje español"
      ],
      "metadata": {
        "id": "bGB1FmgSTNiH"
      },
      "execution_count": null,
      "outputs": []
    },
    {
      "cell_type": "markdown",
      "source": [
        "## Lectura de los datos"
      ],
      "metadata": {
        "id": "i0cm0AwEUDtM"
      }
    },
    {
      "cell_type": "code",
      "source": [
        "import pandas as pd\n",
        "\n",
        "data = pd.read_excel(\"/content/Datos_proyecto.xlsx\")"
      ],
      "metadata": {
        "id": "_3mfDFo-T0Qr"
      },
      "execution_count": null,
      "outputs": []
    },
    {
      "cell_type": "markdown",
      "source": [
        "## Entendimiento de los datos"
      ],
      "metadata": {
        "id": "8h1F91oKUKKe"
      }
    },
    {
      "cell_type": "code",
      "source": [
        "print(data.sample(5))\n",
        "print(\"Total de registros: \", data.shape[0])"
      ],
      "metadata": {
        "colab": {
          "base_uri": "https://localhost:8080/"
        },
        "id": "gnDKABRxUBJy",
        "outputId": "f2858c9c-7dc1-42a3-89fc-921e2700474c"
      },
      "execution_count": null,
      "outputs": [
        {
          "output_type": "stream",
          "name": "stdout",
          "text": [
            "                                                 textos  labels\n",
            "569   Se han encontrado resultados similares en estu...       3\n",
            "2148  Estos pueden basarse en la edad, el sexo o el ...       3\n",
            "1270  Esta es una imagen consistente que surge para ...       3\n",
            "2295  Ministerio de Educación de Bangladesh, 2012). ...       4\n",
            "316   Es más probable que los padres que abusan de l...       3\n",
            "Total de registros:  2424\n"
          ]
        }
      ]
    },
    {
      "cell_type": "markdown",
      "source": [
        "Se puede ver que hay 2424 opiniones de los ciudadanos y que hay 2 variables dentro del proyecto. La primera se refiere a la variable textos, que es una cadena de caracteres y es la opinión de los ciudadanos. Mientras que la segunda variable labels, se refiere al ODS al que corresponde la opinión, en donde hay 3 posibles valores: 1 -> Fin de la pobreza, 3-> Salud y bienestar y 4 -> Educación y calidad"
      ],
      "metadata": {
        "id": "H-QvAy_iVATy"
      }
    },
    {
      "cell_type": "markdown",
      "source": [
        "Unicidad"
      ],
      "metadata": {
        "id": "ltsEXwLkVwOf"
      }
    },
    {
      "cell_type": "code",
      "source": [
        "print(\"Duplicados: \", data.duplicated().sum())"
      ],
      "metadata": {
        "colab": {
          "base_uri": "https://localhost:8080/"
        },
        "id": "jDiIO7Z3V1O0",
        "outputId": "4c62e707-6cd8-4cce-b89a-2ed6d1a30f48"
      },
      "execution_count": null,
      "outputs": [
        {
          "output_type": "stream",
          "name": "stdout",
          "text": [
            "Duplicados:  0\n"
          ]
        }
      ]
    },
    {
      "cell_type": "markdown",
      "source": [
        "Completitud"
      ],
      "metadata": {
        "id": "renpdS67V3zI"
      }
    },
    {
      "cell_type": "code",
      "source": [
        "print(data.isnull().sum())"
      ],
      "metadata": {
        "colab": {
          "base_uri": "https://localhost:8080/"
        },
        "id": "rBUoxABTV6ZB",
        "outputId": "a588950c-3c75-49e0-ca7c-b6a4725ed86c"
      },
      "execution_count": null,
      "outputs": [
        {
          "output_type": "stream",
          "name": "stdout",
          "text": [
            "textos    0\n",
            "labels    0\n",
            "dtype: int64\n"
          ]
        }
      ]
    },
    {
      "cell_type": "markdown",
      "source": [
        "Validez"
      ],
      "metadata": {
        "id": "bQPGpqgTV-hr"
      }
    },
    {
      "cell_type": "code",
      "source": [
        "data.describe()"
      ],
      "metadata": {
        "id": "DK5iF530WAmF"
      },
      "execution_count": null,
      "outputs": []
    },
    {
      "cell_type": "code",
      "source": [
        "data.dtypes"
      ],
      "metadata": {
        "id": "6_N4d0g1WFln"
      },
      "execution_count": null,
      "outputs": []
    },
    {
      "cell_type": "markdown",
      "source": [
        "## Preprocesamiento del texto"
      ],
      "metadata": {
        "id": "t7B8O7FEWMdV"
      }
    },
    {
      "cell_type": "code",
      "source": [
        "dataCopy = data.copy()\n",
        "dataCopy['procesado'] = dataCopy['textos'].apply(lambda x: nlp(x))\n",
        "dataCopy[['textos', 'procesado']].head()"
      ],
      "metadata": {
        "id": "mzV48wgGWqIX"
      },
      "execution_count": null,
      "outputs": []
    },
    {
      "cell_type": "markdown",
      "source": [
        "Tokenización"
      ],
      "metadata": {
        "id": "eq7aPIxjW-Qp"
      }
    },
    {
      "cell_type": "code",
      "source": [
        "dataCopy['tokens'] = dataCopy['procesado'].apply(lambda doc: [token.text for token in doc])\n",
        "dataCopy[['textos', 'tokens']].head()"
      ],
      "metadata": {
        "id": "4U3-C-N7XAE1"
      },
      "execution_count": null,
      "outputs": []
    },
    {
      "cell_type": "markdown",
      "source": [
        "Lematización (Obtener la base de las palabras)"
      ],
      "metadata": {
        "id": "g47KXtudXJd6"
      }
    },
    {
      "cell_type": "code",
      "source": [
        "dataCopy['lemmas'] = dataCopy['procesado'].apply(lambda doc: [token.lemma_ for token in doc])\n",
        "dataCopy[['textos', 'lemmas']].head()"
      ],
      "metadata": {
        "id": "pQiG_tgwXOD9"
      },
      "execution_count": null,
      "outputs": []
    },
    {
      "cell_type": "markdown",
      "source": [
        "Eliminación de StopWords"
      ],
      "metadata": {
        "id": "Rw4NZ3_2XV1J"
      }
    },
    {
      "cell_type": "code",
      "source": [
        "dataCopy['lemmas_sin_stopwords'] = dataCopy['procesado'].apply(lambda doc: [token.lemma_ for token in doc if not token.is_stop])\n",
        "dataCopy[['textos', 'lemmas_sin_stopwords']].head()"
      ],
      "metadata": {
        "id": "uKvYTrZzXXh7"
      },
      "execution_count": null,
      "outputs": []
    },
    {
      "cell_type": "markdown",
      "source": [
        "Filtrado de caracteres especiales"
      ],
      "metadata": {
        "id": "qzy0FV6UXfUJ"
      }
    },
    {
      "cell_type": "code",
      "source": [
        "dataCopy['lemmas_limpios'] = dataCopy['lemmas_sin_stopwords'].apply(lambda lemmas: [lemma for lemma in lemmas if lemma.isalpha()])\n",
        "dataCopy[['textos', 'lemmas_limpios']].head()"
      ],
      "metadata": {
        "id": "g3XtRm-FXg4E"
      },
      "execution_count": null,
      "outputs": []
    },
    {
      "cell_type": "markdown",
      "source": [
        "Entidades resultantes"
      ],
      "metadata": {
        "id": "x9P9YzUWXqsx"
      }
    },
    {
      "cell_type": "code",
      "source": [
        "dataCopy['entidades'] = dataCopy['procesado'].apply(lambda doc: [(ent.text, ent.label_) for ent in doc.ents])\n",
        "dataCopy[['textos', 'entidades']].head()"
      ],
      "metadata": {
        "id": "YAd8uZFrXpsz"
      },
      "execution_count": null,
      "outputs": []
    },
    {
      "cell_type": "markdown",
      "source": [
        "Clasificación de palabras"
      ],
      "metadata": {
        "id": "-_kVdlCdX0jg"
      }
    },
    {
      "cell_type": "code",
      "source": [
        "dataCopy['pos_tags'] = dataCopy['procesado'].apply(lambda doc: [(token.text, token.pos_) for token in doc])\n",
        "dataCopy[['textos', 'pos_tags']].head()"
      ],
      "metadata": {
        "id": "y8RvRPm0X19v"
      },
      "execution_count": null,
      "outputs": []
    },
    {
      "cell_type": "markdown",
      "source": [
        "Texto Preprocesado Final"
      ],
      "metadata": {
        "id": "xhgYWlhtX6wf"
      }
    },
    {
      "cell_type": "code",
      "source": [
        "dataCopy['texto_preprocesado'] = dataCopy['lemmas_limpios'].apply(lambda lemmas: ' '.join(lemmas))\n",
        "dataCopy[['textos', 'texto_preprocesado']].head()"
      ],
      "metadata": {
        "id": "O3aHQPh6X9aw"
      },
      "execution_count": null,
      "outputs": []
    },
    {
      "cell_type": "markdown",
      "source": [
        "Guardar datos"
      ],
      "metadata": {
        "id": "0cpVRDfbYMo5"
      }
    },
    {
      "cell_type": "code",
      "source": [
        "dataCopy.to_excel(\"datos_preprocesados.xlsx\", index=False)\n",
        "print(\"Los datos preprocesados fueron cargados exitosamente\")"
      ],
      "metadata": {
        "id": "5M3ANnf1YOWR"
      },
      "execution_count": null,
      "outputs": []
    },
    {
      "cell_type": "markdown",
      "source": [
        "### 2. Visualización palabras más frecuentes por ODS"
      ],
      "metadata": {
        "id": "DOcpWfnIYYg_"
      }
    },
    {
      "cell_type": "code",
      "source": [
        "!pip install tlib seaborn wordcloud"
      ],
      "metadata": {
        "id": "BVYcXWjlYg7S"
      },
      "execution_count": null,
      "outputs": []
    },
    {
      "cell_type": "code",
      "source": [
        "import pandas as pd\n",
        "import matplotlib.pyplot as plt\n",
        "import seaborn as sns\n",
        "from collections import Counter\n",
        "from wordcloud import WordCloud\n",
        "\n",
        "def palabras_frecuentes_por_ods(df, columna_lemmas, ods_numero, top_n=10):\n",
        "    df_ods = df[df['labels'] == ods_numero]\n",
        "    todos_los_lemmas = df_ods[columna_lemmas].explode()\n",
        "    contador = Counter(todos_los_lemmas)\n",
        "    palabras_mas_frecuentes = contador.most_common(top_n)\n",
        "    return pd.DataFrame(palabras_mas_frecuentes, columns=['Palabra', 'Frecuencia'])\n",
        "\n",
        "def mostrar_nube_palabras(df_frecuencia):\n",
        "    wordcloud = WordCloud(width=800, height=400, background_color='white').generate_from_frequencies(dict(df_frecuencia.values))\n",
        "    plt.figure(figsize=(10, 5))\n",
        "    plt.imshow(wordcloud, interpolation='bilinear')\n",
        "    plt.axis('off')\n",
        "    plt.show()\n",
        "\n",
        "def mostrar_grafico_barras(df_frecuencia, ods_numero):\n",
        "    plt.figure(figsize=(10, 6))\n",
        "    sns.barplot(x='Frecuencia', y='Palabra', data=df_frecuencia, palette='viridis')\n",
        "    plt.title(f'Palabras más frecuentes para ODS {ods_numero}')\n",
        "    plt.xlabel('Frecuencia')\n",
        "    plt.ylabel('Palabra')\n",
        "    plt.show()\n",
        "\n"
      ],
      "metadata": {
        "id": "2PVtYYHTYuus"
      },
      "execution_count": null,
      "outputs": []
    },
    {
      "cell_type": "code",
      "source": [
        "df_frecuencia_ods1 = palabras_frecuentes_por_ods(dataCopy, 'lemmas_limpios', 1)\n",
        "mostrar_nube_palabras(df_frecuencia_ods1)\n",
        "mostrar_grafico_barras(df_frecuencia_ods1, 1)"
      ],
      "metadata": {
        "id": "vBI8oGXQZa1P"
      },
      "execution_count": null,
      "outputs": []
    },
    {
      "cell_type": "code",
      "source": [
        "df_frecuencia_ods3 = palabras_frecuentes_por_ods(dataCopy, 'lemmas_limpios', 3)\n",
        "mostrar_nube_palabras(df_frecuencia_ods3)\n",
        "mostrar_grafico_barras(df_frecuencia_ods3, 3)\n"
      ],
      "metadata": {
        "id": "uBqEDD5KZdvf"
      },
      "execution_count": null,
      "outputs": []
    },
    {
      "cell_type": "code",
      "source": [
        "df_frecuencia_ods4 = palabras_frecuentes_por_ods(dataCopy, 'lemmas_limpios', 4)\n",
        "mostrar_nube_palabras(df_frecuencia_ods4)\n",
        "mostrar_grafico_barras(df_frecuencia_ods4, 4)\n"
      ],
      "metadata": {
        "id": "XLIc2j-BZxsc"
      },
      "execution_count": null,
      "outputs": []
    },
    {
      "cell_type": "markdown",
      "source": [
        "### 3. Transformación de los datos"
      ],
      "metadata": {
        "id": "V6bgTgkmaXod"
      }
    },
    {
      "cell_type": "markdown",
      "source": [
        "1. Term Frequency Inverse Document"
      ],
      "metadata": {
        "id": "Fo4byMlHal3t"
      }
    },
    {
      "cell_type": "code",
      "source": [
        "from sklearn.feature_extraction.text import CountVectorizer, TfidfVectorizer\n",
        "vectorizer = TfidfVectorizer(max_features=1000)\n",
        "X = vectorizer.fit_transform(dataCopy['texto_preprocesado']).toarray()"
      ],
      "metadata": {
        "id": "VhYkkevyactW"
      },
      "execution_count": null,
      "outputs": []
    },
    {
      "cell_type": "markdown",
      "source": [
        "Guardamos el texto para usarlo en el Pipeline"
      ],
      "metadata": {
        "id": "ftwHIl06avrD"
      }
    },
    {
      "cell_type": "code",
      "source": [
        "joblib.dump(vectorizer, 'tfidf_vectorizer.pkl')"
      ],
      "metadata": {
        "id": "FhDVWo57aze3"
      },
      "execution_count": null,
      "outputs": []
    },
    {
      "cell_type": "markdown",
      "source": [
        "2. Count Vectorizer"
      ],
      "metadata": {
        "id": "NorziBV7a2dd"
      }
    },
    {
      "cell_type": "code",
      "source": [
        "count = CountVectorizer(max_features=1000)\n",
        "X_count = count.fit_transform(dataCopy['texto_preprocesado'])\n",
        "print(X_count.shape)\n",
        "X_count.toarray()[0]"
      ],
      "metadata": {
        "id": "RAdnNlGea5Qt"
      },
      "execution_count": null,
      "outputs": []
    },
    {
      "cell_type": "markdown",
      "source": [
        "3. Count Vectorizer Binario"
      ],
      "metadata": {
        "id": "1eAnSlIua9_y"
      }
    },
    {
      "cell_type": "code",
      "source": [
        "dummy = CountVectorizer(binary=True)\n",
        "X_dummy = dummy.fit_transform(dataCopy['texto_preprocesado'])\n",
        "print(X_dummy.shape)\n",
        "X_dummy.toarray()[0]"
      ],
      "metadata": {
        "id": "b09rmdSMbBAZ"
      },
      "execution_count": null,
      "outputs": []
    },
    {
      "cell_type": "markdown",
      "source": [
        "### 4. Train y Validation\n",
        "\n",
        "Tenemos que hacer la división del conjunto para poder hacer el train y validation para poder asegurarnos que el algoritmo pueda predecir correctamente las categorias"
      ],
      "metadata": {
        "id": "Dp57dkqjb804"
      }
    },
    {
      "cell_type": "code",
      "source": [
        "dataCopy.head()"
      ],
      "metadata": {
        "id": "gf6rvWbfcf7v"
      },
      "execution_count": null,
      "outputs": []
    },
    {
      "cell_type": "code",
      "source": [
        "y = dataCopy[\"labels\"]\n",
        "X_train, x_validation, y_train, y_validation = train_test_split(X, y, test_size=0.3, random_state=10)\n",
        "X_train_count, x_validation2_count, y_train2_count, y_validation2_count = train_test_split(X_count, y, test_size=0.3, random_state=10)\n",
        "X_train_dummy, x_validation_dummy, y_train_dummy, y_validation_dummy = train_test_split(X_dummy, y, test_size=0.3, random_state=10)\n"
      ],
      "metadata": {
        "id": "9FdP-2RacDGC"
      },
      "execution_count": null,
      "outputs": []
    },
    {
      "cell_type": "markdown",
      "source": [
        "### Busqueda de hiperparámetros"
      ],
      "metadata": {
        "id": "3vkUI0K9c0Yz"
      }
    },
    {
      "cell_type": "code",
      "source": [
        "decision_tree = DecisionTreeClassifier(random_state=0)"
      ],
      "metadata": {
        "id": "LRYxFRMidFYt"
      },
      "execution_count": null,
      "outputs": []
    },
    {
      "cell_type": "markdown",
      "source": [
        "Usamos los siguientes parametros para poder realizar la busqeuda de hiperparámetros para este conjunto de datos"
      ],
      "metadata": {
        "id": "w8wnRpYydMCm"
      }
    },
    {
      "cell_type": "code",
      "source": [
        "param_grid = {'criterion': ['entropy', 'gini'],\n",
        "              'max_depth': [2, 4, 6, 8, 10, 12, 18],\n",
        "              'min_samples_split': [2, 3, 5, 10, 12]}"
      ],
      "metadata": {
        "id": "Jzwm7gWmdY4u"
      },
      "execution_count": null,
      "outputs": []
    },
    {
      "cell_type": "markdown",
      "source": [
        "Con esto nos aseguramos de escoger la mejor opción posible, por eso usamos KFold() con 10 subconjuntos de datos"
      ],
      "metadata": {
        "id": "rmrM9PaJdaxX"
      }
    },
    {
      "cell_type": "code",
      "source": [
        "kfold = KFold(n_splits=10, shuffle= True, random_state=0)"
      ],
      "metadata": {
        "id": "lgkDpxj3daij"
      },
      "execution_count": 44,
      "outputs": []
    },
    {
      "cell_type": "markdown",
      "source": [
        "Se utilizó la búsqueda automática de parámetros (GridSearchCV), usando diferentes configuraciones posibles del modelo de árbol de decisión y después se selecciona la configuración que tenga el mejor rendimiento."
      ],
      "metadata": {
        "id": "1t_j2cqMfviM"
      }
    },
    {
      "cell_type": "code",
      "source": [
        "grid = GridSearchCV(decision_tree, param_grid, cv=kfold, n_jobs=-1)"
      ],
      "metadata": {
        "id": "mLJIGUgmgfe2"
      },
      "execution_count": 45,
      "outputs": []
    },
    {
      "cell_type": "markdown",
      "source": [
        "Después se realiza la busqueda de hiperparámetros"
      ],
      "metadata": {
        "id": "Yrgvj8ZLgiqL"
      }
    },
    {
      "cell_type": "code",
      "source": [
        "grid.fit(X_train, y_train)"
      ],
      "metadata": {
        "colab": {
          "base_uri": "https://localhost:8080/",
          "height": 165
        },
        "id": "n2MBAbr7giYh",
        "outputId": "c3260b33-d331-4d0d-bd4a-a32ce09f4f39"
      },
      "execution_count": 47,
      "outputs": [
        {
          "output_type": "execute_result",
          "data": {
            "text/plain": [
              "GridSearchCV(cv=KFold(n_splits=10, random_state=0, shuffle=True),\n",
              "             estimator=DecisionTreeClassifier(random_state=0), n_jobs=-1,\n",
              "             param_grid={'criterion': ['entropy', 'gini'],\n",
              "                         'max_depth': [2, 4, 6, 8, 10, 12, 18],\n",
              "                         'min_samples_split': [2, 3, 5, 10, 12]})"
            ],
            "text/html": [
              "<style>#sk-container-id-2 {\n",
              "  /* Definition of color scheme common for light and dark mode */\n",
              "  --sklearn-color-text: #000;\n",
              "  --sklearn-color-text-muted: #666;\n",
              "  --sklearn-color-line: gray;\n",
              "  /* Definition of color scheme for unfitted estimators */\n",
              "  --sklearn-color-unfitted-level-0: #fff5e6;\n",
              "  --sklearn-color-unfitted-level-1: #f6e4d2;\n",
              "  --sklearn-color-unfitted-level-2: #ffe0b3;\n",
              "  --sklearn-color-unfitted-level-3: chocolate;\n",
              "  /* Definition of color scheme for fitted estimators */\n",
              "  --sklearn-color-fitted-level-0: #f0f8ff;\n",
              "  --sklearn-color-fitted-level-1: #d4ebff;\n",
              "  --sklearn-color-fitted-level-2: #b3dbfd;\n",
              "  --sklearn-color-fitted-level-3: cornflowerblue;\n",
              "\n",
              "  /* Specific color for light theme */\n",
              "  --sklearn-color-text-on-default-background: var(--sg-text-color, var(--theme-code-foreground, var(--jp-content-font-color1, black)));\n",
              "  --sklearn-color-background: var(--sg-background-color, var(--theme-background, var(--jp-layout-color0, white)));\n",
              "  --sklearn-color-border-box: var(--sg-text-color, var(--theme-code-foreground, var(--jp-content-font-color1, black)));\n",
              "  --sklearn-color-icon: #696969;\n",
              "\n",
              "  @media (prefers-color-scheme: dark) {\n",
              "    /* Redefinition of color scheme for dark theme */\n",
              "    --sklearn-color-text-on-default-background: var(--sg-text-color, var(--theme-code-foreground, var(--jp-content-font-color1, white)));\n",
              "    --sklearn-color-background: var(--sg-background-color, var(--theme-background, var(--jp-layout-color0, #111)));\n",
              "    --sklearn-color-border-box: var(--sg-text-color, var(--theme-code-foreground, var(--jp-content-font-color1, white)));\n",
              "    --sklearn-color-icon: #878787;\n",
              "  }\n",
              "}\n",
              "\n",
              "#sk-container-id-2 {\n",
              "  color: var(--sklearn-color-text);\n",
              "}\n",
              "\n",
              "#sk-container-id-2 pre {\n",
              "  padding: 0;\n",
              "}\n",
              "\n",
              "#sk-container-id-2 input.sk-hidden--visually {\n",
              "  border: 0;\n",
              "  clip: rect(1px 1px 1px 1px);\n",
              "  clip: rect(1px, 1px, 1px, 1px);\n",
              "  height: 1px;\n",
              "  margin: -1px;\n",
              "  overflow: hidden;\n",
              "  padding: 0;\n",
              "  position: absolute;\n",
              "  width: 1px;\n",
              "}\n",
              "\n",
              "#sk-container-id-2 div.sk-dashed-wrapped {\n",
              "  border: 1px dashed var(--sklearn-color-line);\n",
              "  margin: 0 0.4em 0.5em 0.4em;\n",
              "  box-sizing: border-box;\n",
              "  padding-bottom: 0.4em;\n",
              "  background-color: var(--sklearn-color-background);\n",
              "}\n",
              "\n",
              "#sk-container-id-2 div.sk-container {\n",
              "  /* jupyter's `normalize.less` sets `[hidden] { display: none; }`\n",
              "     but bootstrap.min.css set `[hidden] { display: none !important; }`\n",
              "     so we also need the `!important` here to be able to override the\n",
              "     default hidden behavior on the sphinx rendered scikit-learn.org.\n",
              "     See: https://github.com/scikit-learn/scikit-learn/issues/21755 */\n",
              "  display: inline-block !important;\n",
              "  position: relative;\n",
              "}\n",
              "\n",
              "#sk-container-id-2 div.sk-text-repr-fallback {\n",
              "  display: none;\n",
              "}\n",
              "\n",
              "div.sk-parallel-item,\n",
              "div.sk-serial,\n",
              "div.sk-item {\n",
              "  /* draw centered vertical line to link estimators */\n",
              "  background-image: linear-gradient(var(--sklearn-color-text-on-default-background), var(--sklearn-color-text-on-default-background));\n",
              "  background-size: 2px 100%;\n",
              "  background-repeat: no-repeat;\n",
              "  background-position: center center;\n",
              "}\n",
              "\n",
              "/* Parallel-specific style estimator block */\n",
              "\n",
              "#sk-container-id-2 div.sk-parallel-item::after {\n",
              "  content: \"\";\n",
              "  width: 100%;\n",
              "  border-bottom: 2px solid var(--sklearn-color-text-on-default-background);\n",
              "  flex-grow: 1;\n",
              "}\n",
              "\n",
              "#sk-container-id-2 div.sk-parallel {\n",
              "  display: flex;\n",
              "  align-items: stretch;\n",
              "  justify-content: center;\n",
              "  background-color: var(--sklearn-color-background);\n",
              "  position: relative;\n",
              "}\n",
              "\n",
              "#sk-container-id-2 div.sk-parallel-item {\n",
              "  display: flex;\n",
              "  flex-direction: column;\n",
              "}\n",
              "\n",
              "#sk-container-id-2 div.sk-parallel-item:first-child::after {\n",
              "  align-self: flex-end;\n",
              "  width: 50%;\n",
              "}\n",
              "\n",
              "#sk-container-id-2 div.sk-parallel-item:last-child::after {\n",
              "  align-self: flex-start;\n",
              "  width: 50%;\n",
              "}\n",
              "\n",
              "#sk-container-id-2 div.sk-parallel-item:only-child::after {\n",
              "  width: 0;\n",
              "}\n",
              "\n",
              "/* Serial-specific style estimator block */\n",
              "\n",
              "#sk-container-id-2 div.sk-serial {\n",
              "  display: flex;\n",
              "  flex-direction: column;\n",
              "  align-items: center;\n",
              "  background-color: var(--sklearn-color-background);\n",
              "  padding-right: 1em;\n",
              "  padding-left: 1em;\n",
              "}\n",
              "\n",
              "\n",
              "/* Toggleable style: style used for estimator/Pipeline/ColumnTransformer box that is\n",
              "clickable and can be expanded/collapsed.\n",
              "- Pipeline and ColumnTransformer use this feature and define the default style\n",
              "- Estimators will overwrite some part of the style using the `sk-estimator` class\n",
              "*/\n",
              "\n",
              "/* Pipeline and ColumnTransformer style (default) */\n",
              "\n",
              "#sk-container-id-2 div.sk-toggleable {\n",
              "  /* Default theme specific background. It is overwritten whether we have a\n",
              "  specific estimator or a Pipeline/ColumnTransformer */\n",
              "  background-color: var(--sklearn-color-background);\n",
              "}\n",
              "\n",
              "/* Toggleable label */\n",
              "#sk-container-id-2 label.sk-toggleable__label {\n",
              "  cursor: pointer;\n",
              "  display: flex;\n",
              "  width: 100%;\n",
              "  margin-bottom: 0;\n",
              "  padding: 0.5em;\n",
              "  box-sizing: border-box;\n",
              "  text-align: center;\n",
              "  align-items: start;\n",
              "  justify-content: space-between;\n",
              "  gap: 0.5em;\n",
              "}\n",
              "\n",
              "#sk-container-id-2 label.sk-toggleable__label .caption {\n",
              "  font-size: 0.6rem;\n",
              "  font-weight: lighter;\n",
              "  color: var(--sklearn-color-text-muted);\n",
              "}\n",
              "\n",
              "#sk-container-id-2 label.sk-toggleable__label-arrow:before {\n",
              "  /* Arrow on the left of the label */\n",
              "  content: \"▸\";\n",
              "  float: left;\n",
              "  margin-right: 0.25em;\n",
              "  color: var(--sklearn-color-icon);\n",
              "}\n",
              "\n",
              "#sk-container-id-2 label.sk-toggleable__label-arrow:hover:before {\n",
              "  color: var(--sklearn-color-text);\n",
              "}\n",
              "\n",
              "/* Toggleable content - dropdown */\n",
              "\n",
              "#sk-container-id-2 div.sk-toggleable__content {\n",
              "  max-height: 0;\n",
              "  max-width: 0;\n",
              "  overflow: hidden;\n",
              "  text-align: left;\n",
              "  /* unfitted */\n",
              "  background-color: var(--sklearn-color-unfitted-level-0);\n",
              "}\n",
              "\n",
              "#sk-container-id-2 div.sk-toggleable__content.fitted {\n",
              "  /* fitted */\n",
              "  background-color: var(--sklearn-color-fitted-level-0);\n",
              "}\n",
              "\n",
              "#sk-container-id-2 div.sk-toggleable__content pre {\n",
              "  margin: 0.2em;\n",
              "  border-radius: 0.25em;\n",
              "  color: var(--sklearn-color-text);\n",
              "  /* unfitted */\n",
              "  background-color: var(--sklearn-color-unfitted-level-0);\n",
              "}\n",
              "\n",
              "#sk-container-id-2 div.sk-toggleable__content.fitted pre {\n",
              "  /* unfitted */\n",
              "  background-color: var(--sklearn-color-fitted-level-0);\n",
              "}\n",
              "\n",
              "#sk-container-id-2 input.sk-toggleable__control:checked~div.sk-toggleable__content {\n",
              "  /* Expand drop-down */\n",
              "  max-height: 200px;\n",
              "  max-width: 100%;\n",
              "  overflow: auto;\n",
              "}\n",
              "\n",
              "#sk-container-id-2 input.sk-toggleable__control:checked~label.sk-toggleable__label-arrow:before {\n",
              "  content: \"▾\";\n",
              "}\n",
              "\n",
              "/* Pipeline/ColumnTransformer-specific style */\n",
              "\n",
              "#sk-container-id-2 div.sk-label input.sk-toggleable__control:checked~label.sk-toggleable__label {\n",
              "  color: var(--sklearn-color-text);\n",
              "  background-color: var(--sklearn-color-unfitted-level-2);\n",
              "}\n",
              "\n",
              "#sk-container-id-2 div.sk-label.fitted input.sk-toggleable__control:checked~label.sk-toggleable__label {\n",
              "  background-color: var(--sklearn-color-fitted-level-2);\n",
              "}\n",
              "\n",
              "/* Estimator-specific style */\n",
              "\n",
              "/* Colorize estimator box */\n",
              "#sk-container-id-2 div.sk-estimator input.sk-toggleable__control:checked~label.sk-toggleable__label {\n",
              "  /* unfitted */\n",
              "  background-color: var(--sklearn-color-unfitted-level-2);\n",
              "}\n",
              "\n",
              "#sk-container-id-2 div.sk-estimator.fitted input.sk-toggleable__control:checked~label.sk-toggleable__label {\n",
              "  /* fitted */\n",
              "  background-color: var(--sklearn-color-fitted-level-2);\n",
              "}\n",
              "\n",
              "#sk-container-id-2 div.sk-label label.sk-toggleable__label,\n",
              "#sk-container-id-2 div.sk-label label {\n",
              "  /* The background is the default theme color */\n",
              "  color: var(--sklearn-color-text-on-default-background);\n",
              "}\n",
              "\n",
              "/* On hover, darken the color of the background */\n",
              "#sk-container-id-2 div.sk-label:hover label.sk-toggleable__label {\n",
              "  color: var(--sklearn-color-text);\n",
              "  background-color: var(--sklearn-color-unfitted-level-2);\n",
              "}\n",
              "\n",
              "/* Label box, darken color on hover, fitted */\n",
              "#sk-container-id-2 div.sk-label.fitted:hover label.sk-toggleable__label.fitted {\n",
              "  color: var(--sklearn-color-text);\n",
              "  background-color: var(--sklearn-color-fitted-level-2);\n",
              "}\n",
              "\n",
              "/* Estimator label */\n",
              "\n",
              "#sk-container-id-2 div.sk-label label {\n",
              "  font-family: monospace;\n",
              "  font-weight: bold;\n",
              "  display: inline-block;\n",
              "  line-height: 1.2em;\n",
              "}\n",
              "\n",
              "#sk-container-id-2 div.sk-label-container {\n",
              "  text-align: center;\n",
              "}\n",
              "\n",
              "/* Estimator-specific */\n",
              "#sk-container-id-2 div.sk-estimator {\n",
              "  font-family: monospace;\n",
              "  border: 1px dotted var(--sklearn-color-border-box);\n",
              "  border-radius: 0.25em;\n",
              "  box-sizing: border-box;\n",
              "  margin-bottom: 0.5em;\n",
              "  /* unfitted */\n",
              "  background-color: var(--sklearn-color-unfitted-level-0);\n",
              "}\n",
              "\n",
              "#sk-container-id-2 div.sk-estimator.fitted {\n",
              "  /* fitted */\n",
              "  background-color: var(--sklearn-color-fitted-level-0);\n",
              "}\n",
              "\n",
              "/* on hover */\n",
              "#sk-container-id-2 div.sk-estimator:hover {\n",
              "  /* unfitted */\n",
              "  background-color: var(--sklearn-color-unfitted-level-2);\n",
              "}\n",
              "\n",
              "#sk-container-id-2 div.sk-estimator.fitted:hover {\n",
              "  /* fitted */\n",
              "  background-color: var(--sklearn-color-fitted-level-2);\n",
              "}\n",
              "\n",
              "/* Specification for estimator info (e.g. \"i\" and \"?\") */\n",
              "\n",
              "/* Common style for \"i\" and \"?\" */\n",
              "\n",
              ".sk-estimator-doc-link,\n",
              "a:link.sk-estimator-doc-link,\n",
              "a:visited.sk-estimator-doc-link {\n",
              "  float: right;\n",
              "  font-size: smaller;\n",
              "  line-height: 1em;\n",
              "  font-family: monospace;\n",
              "  background-color: var(--sklearn-color-background);\n",
              "  border-radius: 1em;\n",
              "  height: 1em;\n",
              "  width: 1em;\n",
              "  text-decoration: none !important;\n",
              "  margin-left: 0.5em;\n",
              "  text-align: center;\n",
              "  /* unfitted */\n",
              "  border: var(--sklearn-color-unfitted-level-1) 1pt solid;\n",
              "  color: var(--sklearn-color-unfitted-level-1);\n",
              "}\n",
              "\n",
              ".sk-estimator-doc-link.fitted,\n",
              "a:link.sk-estimator-doc-link.fitted,\n",
              "a:visited.sk-estimator-doc-link.fitted {\n",
              "  /* fitted */\n",
              "  border: var(--sklearn-color-fitted-level-1) 1pt solid;\n",
              "  color: var(--sklearn-color-fitted-level-1);\n",
              "}\n",
              "\n",
              "/* On hover */\n",
              "div.sk-estimator:hover .sk-estimator-doc-link:hover,\n",
              ".sk-estimator-doc-link:hover,\n",
              "div.sk-label-container:hover .sk-estimator-doc-link:hover,\n",
              ".sk-estimator-doc-link:hover {\n",
              "  /* unfitted */\n",
              "  background-color: var(--sklearn-color-unfitted-level-3);\n",
              "  color: var(--sklearn-color-background);\n",
              "  text-decoration: none;\n",
              "}\n",
              "\n",
              "div.sk-estimator.fitted:hover .sk-estimator-doc-link.fitted:hover,\n",
              ".sk-estimator-doc-link.fitted:hover,\n",
              "div.sk-label-container:hover .sk-estimator-doc-link.fitted:hover,\n",
              ".sk-estimator-doc-link.fitted:hover {\n",
              "  /* fitted */\n",
              "  background-color: var(--sklearn-color-fitted-level-3);\n",
              "  color: var(--sklearn-color-background);\n",
              "  text-decoration: none;\n",
              "}\n",
              "\n",
              "/* Span, style for the box shown on hovering the info icon */\n",
              ".sk-estimator-doc-link span {\n",
              "  display: none;\n",
              "  z-index: 9999;\n",
              "  position: relative;\n",
              "  font-weight: normal;\n",
              "  right: .2ex;\n",
              "  padding: .5ex;\n",
              "  margin: .5ex;\n",
              "  width: min-content;\n",
              "  min-width: 20ex;\n",
              "  max-width: 50ex;\n",
              "  color: var(--sklearn-color-text);\n",
              "  box-shadow: 2pt 2pt 4pt #999;\n",
              "  /* unfitted */\n",
              "  background: var(--sklearn-color-unfitted-level-0);\n",
              "  border: .5pt solid var(--sklearn-color-unfitted-level-3);\n",
              "}\n",
              "\n",
              ".sk-estimator-doc-link.fitted span {\n",
              "  /* fitted */\n",
              "  background: var(--sklearn-color-fitted-level-0);\n",
              "  border: var(--sklearn-color-fitted-level-3);\n",
              "}\n",
              "\n",
              ".sk-estimator-doc-link:hover span {\n",
              "  display: block;\n",
              "}\n",
              "\n",
              "/* \"?\"-specific style due to the `<a>` HTML tag */\n",
              "\n",
              "#sk-container-id-2 a.estimator_doc_link {\n",
              "  float: right;\n",
              "  font-size: 1rem;\n",
              "  line-height: 1em;\n",
              "  font-family: monospace;\n",
              "  background-color: var(--sklearn-color-background);\n",
              "  border-radius: 1rem;\n",
              "  height: 1rem;\n",
              "  width: 1rem;\n",
              "  text-decoration: none;\n",
              "  /* unfitted */\n",
              "  color: var(--sklearn-color-unfitted-level-1);\n",
              "  border: var(--sklearn-color-unfitted-level-1) 1pt solid;\n",
              "}\n",
              "\n",
              "#sk-container-id-2 a.estimator_doc_link.fitted {\n",
              "  /* fitted */\n",
              "  border: var(--sklearn-color-fitted-level-1) 1pt solid;\n",
              "  color: var(--sklearn-color-fitted-level-1);\n",
              "}\n",
              "\n",
              "/* On hover */\n",
              "#sk-container-id-2 a.estimator_doc_link:hover {\n",
              "  /* unfitted */\n",
              "  background-color: var(--sklearn-color-unfitted-level-3);\n",
              "  color: var(--sklearn-color-background);\n",
              "  text-decoration: none;\n",
              "}\n",
              "\n",
              "#sk-container-id-2 a.estimator_doc_link.fitted:hover {\n",
              "  /* fitted */\n",
              "  background-color: var(--sklearn-color-fitted-level-3);\n",
              "}\n",
              "</style><div id=\"sk-container-id-2\" class=\"sk-top-container\"><div class=\"sk-text-repr-fallback\"><pre>GridSearchCV(cv=KFold(n_splits=10, random_state=0, shuffle=True),\n",
              "             estimator=DecisionTreeClassifier(random_state=0), n_jobs=-1,\n",
              "             param_grid={&#x27;criterion&#x27;: [&#x27;entropy&#x27;, &#x27;gini&#x27;],\n",
              "                         &#x27;max_depth&#x27;: [2, 4, 6, 8, 10, 12, 18],\n",
              "                         &#x27;min_samples_split&#x27;: [2, 3, 5, 10, 12]})</pre><b>In a Jupyter environment, please rerun this cell to show the HTML representation or trust the notebook. <br />On GitHub, the HTML representation is unable to render, please try loading this page with nbviewer.org.</b></div><div class=\"sk-container\" hidden><div class=\"sk-item sk-dashed-wrapped\"><div class=\"sk-label-container\"><div class=\"sk-label fitted sk-toggleable\"><input class=\"sk-toggleable__control sk-hidden--visually\" id=\"sk-estimator-id-4\" type=\"checkbox\" ><label for=\"sk-estimator-id-4\" class=\"sk-toggleable__label fitted sk-toggleable__label-arrow\"><div><div>GridSearchCV</div></div><div><a class=\"sk-estimator-doc-link fitted\" rel=\"noreferrer\" target=\"_blank\" href=\"https://scikit-learn.org/1.6/modules/generated/sklearn.model_selection.GridSearchCV.html\">?<span>Documentation for GridSearchCV</span></a><span class=\"sk-estimator-doc-link fitted\">i<span>Fitted</span></span></div></label><div class=\"sk-toggleable__content fitted\"><pre>GridSearchCV(cv=KFold(n_splits=10, random_state=0, shuffle=True),\n",
              "             estimator=DecisionTreeClassifier(random_state=0), n_jobs=-1,\n",
              "             param_grid={&#x27;criterion&#x27;: [&#x27;entropy&#x27;, &#x27;gini&#x27;],\n",
              "                         &#x27;max_depth&#x27;: [2, 4, 6, 8, 10, 12, 18],\n",
              "                         &#x27;min_samples_split&#x27;: [2, 3, 5, 10, 12]})</pre></div> </div></div><div class=\"sk-parallel\"><div class=\"sk-parallel-item\"><div class=\"sk-item\"><div class=\"sk-label-container\"><div class=\"sk-label fitted sk-toggleable\"><input class=\"sk-toggleable__control sk-hidden--visually\" id=\"sk-estimator-id-5\" type=\"checkbox\" ><label for=\"sk-estimator-id-5\" class=\"sk-toggleable__label fitted sk-toggleable__label-arrow\"><div><div>best_estimator_: DecisionTreeClassifier</div></div></label><div class=\"sk-toggleable__content fitted\"><pre>DecisionTreeClassifier(criterion=&#x27;entropy&#x27;, max_depth=18, min_samples_split=12,\n",
              "                       random_state=0)</pre></div> </div></div><div class=\"sk-serial\"><div class=\"sk-item\"><div class=\"sk-estimator fitted sk-toggleable\"><input class=\"sk-toggleable__control sk-hidden--visually\" id=\"sk-estimator-id-6\" type=\"checkbox\" ><label for=\"sk-estimator-id-6\" class=\"sk-toggleable__label fitted sk-toggleable__label-arrow\"><div><div>DecisionTreeClassifier</div></div><div><a class=\"sk-estimator-doc-link fitted\" rel=\"noreferrer\" target=\"_blank\" href=\"https://scikit-learn.org/1.6/modules/generated/sklearn.tree.DecisionTreeClassifier.html\">?<span>Documentation for DecisionTreeClassifier</span></a></div></label><div class=\"sk-toggleable__content fitted\"><pre>DecisionTreeClassifier(criterion=&#x27;entropy&#x27;, max_depth=18, min_samples_split=12,\n",
              "                       random_state=0)</pre></div> </div></div></div></div></div></div></div></div></div>"
            ]
          },
          "metadata": {},
          "execution_count": 47
        }
      ]
    },
    {
      "cell_type": "markdown",
      "source": [
        "De aca, se sacan los mejores valores para los hiperparámetros"
      ],
      "metadata": {
        "id": "VgjG3a86hofA"
      }
    },
    {
      "cell_type": "code",
      "source": [
        "print(\"Mejores parámetros: {}\".format(grid.best_params_))"
      ],
      "metadata": {
        "colab": {
          "base_uri": "https://localhost:8080/"
        },
        "id": "UIPTYz6Ehsg5",
        "outputId": "7c54e73a-2bb8-4b35-f5dd-5e4b51196a48"
      },
      "execution_count": 48,
      "outputs": [
        {
          "output_type": "stream",
          "name": "stdout",
          "text": [
            "Mejores parámetros: {'criterion': 'entropy', 'max_depth': 18, 'min_samples_split': 12}\n"
          ]
        }
      ]
    },
    {
      "cell_type": "markdown",
      "source": [
        "Se puede ver de los resultados que la mejor configuración genera un arbol de 18 niveles, en donde cada nivel tiene al menos 12 muestras."
      ],
      "metadata": {
        "id": "9gyaUVRxiIfu"
      }
    },
    {
      "cell_type": "markdown",
      "source": [
        "Usamos el mejor modelo para el árbol de decisión"
      ],
      "metadata": {
        "id": "Ihhj-QBpi7B4"
      }
    },
    {
      "cell_type": "code",
      "source": [
        "best_tree = grid.best_estimator_"
      ],
      "metadata": {
        "id": "EM5pFQgKjEsx"
      },
      "execution_count": 49,
      "outputs": []
    },
    {
      "cell_type": "markdown",
      "source": [
        "### 5. Algoritmo 1: Naïve Bayes"
      ],
      "metadata": {
        "id": "KKEjp3IWjUUe"
      }
    },
    {
      "cell_type": "code",
      "source": [
        "nb = MultinomialNB()"
      ],
      "metadata": {
        "id": "7M1PlgzpjlE7"
      },
      "execution_count": 50,
      "outputs": []
    },
    {
      "cell_type": "markdown",
      "source": [
        "Se usa el parametro de suavización de Laplace (alpha) para controlar la regulación y evitar probabilidades nulas en el conteo de palabras"
      ],
      "metadata": {
        "id": "kshQBYr6jmWB"
      }
    },
    {
      "cell_type": "code",
      "source": [
        "param_gridNB = { 'alpha': [0.1, 0.5, 1.0, 2.0]}"
      ],
      "metadata": {
        "id": "LQ0I4K47k-HF"
      },
      "execution_count": 52,
      "outputs": []
    },
    {
      "cell_type": "markdown",
      "source": [
        "Usamos GridSearchCV para hacer la búsqueda sistemática de hiperparámetros para el modelo Multinomial Naïve Bayes, usando diferentes combinaciones de valores definidos y usando validación cruzada, se selecciona la configuración que tiene mejor rendimiento promedio, llegando a un modelo de Naïve Bayes optimo."
      ],
      "metadata": {
        "id": "ADubm_6dlDWD"
      }
    },
    {
      "cell_type": "code",
      "source": [
        "grid_searchNB = GridSearchCV(estimator=nb, param_grid=param_gridNB, scoring='accuracy')\n",
        "grid_searchNB.fit(X_train, y_train)\n",
        "print(\"Mejores parámetros: {}\".format(grid_searchNB.best_params_))\n",
        "best_NB = grid_searchNB.best_estimator_"
      ],
      "metadata": {
        "colab": {
          "base_uri": "https://localhost:8080/"
        },
        "id": "XV0nxgbAltv8",
        "outputId": "86fd44e6-aa1b-4b78-bdb0-e26d9af98934"
      },
      "execution_count": 53,
      "outputs": [
        {
          "output_type": "stream",
          "name": "stdout",
          "text": [
            "Mejores parámetros: {'alpha': 1.0}\n"
          ]
        }
      ]
    },
    {
      "cell_type": "markdown",
      "source": [
        "El mejor valor para el alpha es 1.0, que significa que se encontró un equilibrio al evitar probabilidades nulas en palabras poco frecuentes sin cambiar mucho al distribución real de las palabras."
      ],
      "metadata": {
        "id": "5yrgW3zpmjEV"
      }
    },
    {
      "cell_type": "markdown",
      "source": [
        "### 6. Algoritmo 2: K-Vecinos más cercanos"
      ],
      "metadata": {
        "id": "DAAP7G_3oA-t"
      }
    },
    {
      "cell_type": "markdown",
      "source": [
        "Para escoger el mejor hiperparámetro, se usa GridSearch"
      ],
      "metadata": {
        "id": "zTedlGb8oOc-"
      }
    },
    {
      "cell_type": "code",
      "source": [
        "from sklearn.model_selection import GridSearchCV\n",
        "from sklearn.neighbors import KNeighborsClassifier\n",
        "\n",
        "# Definir los valores posibles de k\n",
        "param_grid = {'n_neighbors': [3, 5, 7, 9, 11, 15, 21, 31, 41, 51]}\n",
        "\n",
        "grid_search = GridSearchCV(KNeighborsClassifier(), param_grid, cv=5)\n",
        "grid_search.fit(X_train, y_train)\n",
        "\n",
        "\n",
        "print(f\"Mejor valor de k: {grid_search.best_params_}\")"
      ],
      "metadata": {
        "colab": {
          "base_uri": "https://localhost:8080/"
        },
        "id": "P443tkVsoGHj",
        "outputId": "1e95085c-fcb1-4686-ede4-d9326e4833e3"
      },
      "execution_count": 54,
      "outputs": [
        {
          "output_type": "stream",
          "name": "stdout",
          "text": [
            "Mejor valor de k: {'n_neighbors': 41}\n"
          ]
        }
      ]
    },
    {
      "cell_type": "code",
      "source": [
        "from sklearn.metrics import accuracy_score, classification_report\n",
        "\n",
        "knn = KNeighborsClassifier(n_neighbors=11)\n",
        "\n",
        "knn.fit(X_train, y_train)\n",
        "y_pred1 = knn.predict(x_validation)"
      ],
      "metadata": {
        "id": "PmONio3pqp6p"
      },
      "execution_count": 55,
      "outputs": []
    },
    {
      "cell_type": "markdown",
      "source": [
        "# 7. Evaluación de los modelos"
      ],
      "metadata": {
        "id": "k1BnFvy9rtON"
      }
    },
    {
      "cell_type": "markdown",
      "source": [
        "### 7.1 Evaluación de mejor modelo - Algoritmo Árboles de decisión"
      ],
      "metadata": {
        "id": "GBRCPfr4rxRk"
      }
    },
    {
      "cell_type": "markdown",
      "source": [
        "Se hace la predicción sobre el conjunto de validación que se creó antes de crear el árbol de decisión"
      ],
      "metadata": {
        "id": "0wUv3awor7JT"
      }
    },
    {
      "cell_type": "code",
      "source": [
        "y_pred = best_tree.predict(x_validation)"
      ],
      "metadata": {
        "id": "vfOq1QxZr2ie"
      },
      "execution_count": 56,
      "outputs": []
    },
    {
      "cell_type": "markdown",
      "source": [
        "Ahora creamos la matriz de confusión que deja ver que tan acertado esta la predicción del Árbol de decisión."
      ],
      "metadata": {
        "id": "YgvNcjcnsJCm"
      }
    },
    {
      "cell_type": "code",
      "source": [
        "matriz_confusion = confusion_matrix(y_validation, y_pred, labels=best_tree.classes_)"
      ],
      "metadata": {
        "id": "rfXBRTZdsW5W"
      },
      "execution_count": 57,
      "outputs": []
    },
    {
      "cell_type": "markdown",
      "source": [
        "Se crea el grafico para mostrar la matriz"
      ],
      "metadata": {
        "id": "1_uca71esZ5Q"
      }
    },
    {
      "cell_type": "code",
      "source": [
        "matrix_display = ConfusionMatrixDisplay(confusion_matrix=matriz_confusion, display_labels=best_tree.classes_)\n",
        "matrix_display.plot()"
      ],
      "metadata": {
        "colab": {
          "base_uri": "https://localhost:8080/",
          "height": 466
        },
        "id": "iLMwReigsb6W",
        "outputId": "b9ad9ef8-ff44-4000-cd36-aa90bb53c246"
      },
      "execution_count": 65,
      "outputs": [
        {
          "output_type": "execute_result",
          "data": {
            "text/plain": [
              "<sklearn.metrics._plot.confusion_matrix.ConfusionMatrixDisplay at 0x7f6dcf12f740>"
            ]
          },
          "metadata": {},
          "execution_count": 65
        },
        {
          "output_type": "display_data",
          "data": {
            "text/plain": [
              "<Figure size 640x480 with 2 Axes>"
            ],
            "image/png": "[encoded data removed]"
          },
          "metadata": {}
        }
      ]
    },
    {
      "cell_type": "markdown",
      "source": [
        "En base a la matriz de confusión, se puede ver que el árbol de decisión tiene un buen nivel de aciertos en las 3 clases, sobre todo en el ODS 3 y ODS 4, donde hay los 280 aciertos. Pero también hay un nivel de confusión entre el ODS 1 y ODS 3, mostrando que algunas opiniones sobre la pobreza que pueden tener términos sobre la salud o viceversa."
      ],
      "metadata": {
        "id": "n-uhzXcUs3Fo"
      }
    },
    {
      "cell_type": "markdown",
      "source": [
        "Para el ODS 1 se tiene un 88.9% de certeza, mientras que el ODS 3 tiene un porcentaje de certeza de 94.1%, y para el ODS 4 tiene un porcentaje de certeza de 90.7%. Esto demuestra que el modelo esta muy acertado.\n",
        "\n",
        "Igual se hace el reporte de clasificación de las predicciones del algoritmo en base de los datos de validación"
      ],
      "metadata": {
        "id": "NVPXPmEOtY8B"
      }
    },
    {
      "cell_type": "code",
      "source": [
        "print(classification_report(y_validation, y_pred))\n",
        "print('Exactitud: %.2f' % accuracy_score(y_validation, y_pred))"
      ],
      "metadata": {
        "colab": {
          "base_uri": "https://localhost:8080/"
        },
        "id": "m1DcmaMUu3JG",
        "outputId": "a3247014-2b6a-42bf-b266-4b54743835b9"
      },
      "execution_count": 66,
      "outputs": [
        {
          "output_type": "stream",
          "name": "stdout",
          "text": [
            "              precision    recall  f1-score   support\n",
            "\n",
            "           1       0.96      0.93      0.95       144\n",
            "           3       0.97      0.97      0.97       272\n",
            "           4       0.97      0.98      0.98       312\n",
            "\n",
            "    accuracy                           0.97       728\n",
            "   macro avg       0.97      0.96      0.97       728\n",
            "weighted avg       0.97      0.97      0.97       728\n",
            "\n",
            "Exactitud: 0.97\n"
          ]
        }
      ]
    },
    {
      "cell_type": "markdown",
      "source": [
        "Basado en el reporte de clasificación se puede ver los puntajes F1 que muestran que hay un balance entre precisión y recall, y muestra que el modelo logra tener un desempeño sólido en la clasificación de los ODS."
      ],
      "metadata": {
        "id": "wDJwNuFbvFnX"
      }
    },
    {
      "cell_type": "markdown",
      "source": [
        "### 7.2 Evaluación del modelo - Algoritmo Naïves Bayes"
      ],
      "metadata": {
        "id": "eIsPJeKoxKPt"
      }
    },
    {
      "cell_type": "code",
      "source": [
        "y_pred = best_NB.predict(x_validation)\n",
        "matriz_confusionNB = confusion_matrix(y_validation, y_pred, labels=best_NB.classes_)\n",
        "matrix_display_NB = ConfusionMatrixDisplay(confusion_matrix=matriz_confusionNB, display_labels=best_NB.classes_)\n",
        "matrix_display_NB.plot()"
      ],
      "metadata": {
        "colab": {
          "base_uri": "https://localhost:8080/",
          "height": 466
        },
        "id": "YRAi5MqCxqOV",
        "outputId": "d9c7d8bf-a393-4120-8dca-89945cbd28ef"
      },
      "execution_count": 67,
      "outputs": [
        {
          "output_type": "execute_result",
          "data": {
            "text/plain": [
              "<sklearn.metrics._plot.confusion_matrix.ConfusionMatrixDisplay at 0x7f6dcf7eb8f0>"
            ]
          },
          "metadata": {},
          "execution_count": 67
        },
        {
          "output_type": "display_data",
          "data": {
            "text/plain": [
              "<Figure size 640x480 with 2 Axes>"
            ],
            "image/png": "[encoded data removed]"
          },
          "metadata": {}
        }
      ]
    },
    {
      "cell_type": "markdown",
      "source": [
        "En base a la matriz de confusión, se observa que el modelo de Naïve Bayes obtiene un alto nivel de aciertos en las tres clases. Para el ODS 1 se clasificaron correctamente 134 textos, con solo 10 errores distribuidos en las demás categorías. En el ODS 3 se alcanzaron 265 aciertos, con únicamente 7 clasificaciones incorrectas. Finalmente, el ODS 4 presentó el mejor desempeño, con 307 aciertos y apenas 5 errores. Esto refleja que el modelo distingue de manera muy efectiva entre las tres clases."
      ],
      "metadata": {
        "id": "sSO07Rqp0HZ-"
      }
    },
    {
      "cell_type": "code",
      "source": [
        "\n",
        "report = classification_report(y_validation, y_pred)\n",
        "grid_searchNB.best_params_, report\n",
        "print(report)\n",
        "print(f\"Exactitud: {accuracy_score(y_validation, y_pred):.2f}\")\n",
        "print(f\"Recall: {recall_score(y_validation, y_pred, average='weighted'):.2f}\")\n",
        "print(f\"Precisión: {precision_score(y_validation, y_pred, average='weighted'):.2f}\")\n",
        "print(f\"F1-Score: {f1_score(y_validation, y_pred, average='weighted'):.2f}\")"
      ],
      "metadata": {
        "colab": {
          "base_uri": "https://localhost:8080/"
        },
        "id": "GSfy_vmOyMUq",
        "outputId": "eefc733a-9ce4-4102-86c4-985ca37d6e3e"
      },
      "execution_count": 70,
      "outputs": [
        {
          "output_type": "stream",
          "name": "stdout",
          "text": [
            "              precision    recall  f1-score   support\n",
            "\n",
            "           1       0.96      0.93      0.95       144\n",
            "           3       0.97      0.97      0.97       272\n",
            "           4       0.97      0.98      0.98       312\n",
            "\n",
            "    accuracy                           0.97       728\n",
            "   macro avg       0.97      0.96      0.97       728\n",
            "weighted avg       0.97      0.97      0.97       728\n",
            "\n",
            "Exactitud: 0.97\n",
            "Recall: 0.97\n",
            "Precisión: 0.97\n",
            "F1-Score: 0.97\n"
          ]
        }
      ]
    },
    {
      "cell_type": "markdown",
      "source": [
        "De acuerdo con el reporte de clasificación, el modelo Naïve Bayes logra una exactitud global del 97%, mostrando métricas muy equilibradas entre las distintas clases. Este resultado refleja un balance entre precisión y recall, confirmando que el modelo no solo es robusto, sino que también ofrece un desempeño consistente en la clasificación de los textos en los ODS."
      ],
      "metadata": {
        "id": "0FecIQBg0e7E"
      }
    },
    {
      "cell_type": "markdown",
      "source": [],
      "metadata": {
        "id": "568ZX6pv02MQ"
      }
    },
    {
      "cell_type": "markdown",
      "source": [
        "### 7.3 Evaluación del modelo - Algoritmo K-Vecinos (más cercanos)"
      ],
      "metadata": {
        "id": "RJz-UnE2073p"
      }
    },
    {
      "cell_type": "code",
      "source": [
        "matriz_confusion = confusion_matrix(y_validation, y_pred1, labels=knn.classes_)\n",
        "disp = ConfusionMatrixDisplay(confusion_matrix=matriz_confusion, display_labels=knn.classes_)\n",
        "disp.plot()"
      ],
      "metadata": {
        "colab": {
          "base_uri": "https://localhost:8080/",
          "height": 466
        },
        "id": "AwmbaYO80sy4",
        "outputId": "8f095f50-75a4-4a17-9262-292884a44eab"
      },
      "execution_count": 71,
      "outputs": [
        {
          "output_type": "execute_result",
          "data": {
            "text/plain": [
              "<sklearn.metrics._plot.confusion_matrix.ConfusionMatrixDisplay at 0x7f6dcf7eaf00>"
            ]
          },
          "metadata": {},
          "execution_count": 71
        },
        {
          "output_type": "display_data",
          "data": {
            "text/plain": [
              "<Figure size 640x480 with 2 Axes>"
            ],
            "image/png": "[encoded data removed]"
          },
          "metadata": {}
        }
      ]
    },
    {
      "cell_type": "markdown",
      "source": [
        "En base a la matriz de confusión, se observa que el algoritmo de K-Vecinos logra un buend desempeño para las tres clases. Para el ODS 1 se obtuvieron 137 aciertos y únicamente 7 errores repartidos. En el ODS 3 se clasificaron correctamente 257 textos, con 15 errores. Finalmente, el ODS 4 alcanzó el mejor desempeño, con 299 aciertos y solo 13 errores. Estos resultados muestran que el modelo es capaz de distinguir de forma adecuada entre las tres categorías."
      ],
      "metadata": {
        "id": "_4_LFbG21TVB"
      }
    },
    {
      "cell_type": "code",
      "source": [
        "accuracy = accuracy_score(y_validation, y_pred1)\n",
        "print(classification_report(y_validation, y_pred1))\n",
        "print(f\"Exactitud: {accuracy:.2f}\")"
      ],
      "metadata": {
        "colab": {
          "base_uri": "https://localhost:8080/"
        },
        "id": "nDrAN3u_1U6f",
        "outputId": "b225d4a8-0dc5-4483-c5d6-e074871e1a90"
      },
      "execution_count": 80,
      "outputs": [
        {
          "output_type": "stream",
          "name": "stdout",
          "text": [
            "              precision    recall  f1-score   support\n",
            "\n",
            "           1       0.90      0.95      0.92       144\n",
            "           3       0.96      0.94      0.95       272\n",
            "           4       0.97      0.96      0.97       312\n",
            "\n",
            "    accuracy                           0.95       728\n",
            "   macro avg       0.94      0.95      0.95       728\n",
            "weighted avg       0.95      0.95      0.95       728\n",
            "\n",
            "Exactitud: 0.95\n"
          ]
        }
      ]
    },
    {
      "cell_type": "markdown",
      "source": [
        "El reporte de clasificación refuerza el buen desempeño del modelo KNN, mostrando una exactitud global del 95%. Estas métricas confirman que el algoritmo logra un rendimiento alto y estable en la tarea de clasificación de los ODS."
      ],
      "metadata": {
        "id": "ggY36kP63c0G"
      }
    },
    {
      "cell_type": "markdown",
      "source": [
        "### 7.4 Selección del mejor modelo"
      ],
      "metadata": {
        "id": "r2HzmPHl36ye"
      }
    },
    {
      "cell_type": "markdown",
      "source": [
        "Con base en los resultados obtenidos, el modelo que mostró el mejor desempeño fue Naïve Bayes, alcanzando una exactitud global del 97% y métricas muy equilibradas de precisión, recall y F1-score en las tres clases. Aunque tanto el Árbol de Decisión (92%) como K-Vecinos (95%) lograron buenos resultados, escogimos el modelo de Naïve Bayes ya que fue mejor que los otros dos al tener mejor balance entre precisión y recall y tiene menos confusiones. Ahora guardamos el mejor modelo para usarlo en la pipeline."
      ],
      "metadata": {
        "id": "1FFEDfr_35ey"
      }
    },
    {
      "cell_type": "code",
      "source": [
        "joblib.dump(best_NB, 'model.pkl')"
      ],
      "metadata": {
        "colab": {
          "base_uri": "https://localhost:8080/"
        },
        "id": "lBLFCOZ33skT",
        "outputId": "4e2ad267-f6b2-4497-f11f-002788c6b2c1"
      },
      "execution_count": 81,
      "outputs": [
        {
          "output_type": "execute_result",
          "data": {
            "text/plain": [
              "['model.pkl']"
            ]
          },
          "metadata": {},
          "execution_count": 81
        }
      ]
    },
    {
      "cell_type": "markdown",
      "source": [
        "# 8. Creación del pipeline"
      ],
      "metadata": {
        "id": "9XfuTGj96q-y"
      }
    },
    {
      "cell_type": "markdown",
      "source": [
        "Creación del encoder"
      ],
      "metadata": {
        "id": "ZzH-9f6K6ycU"
      }
    },
    {
      "cell_type": "code",
      "source": [
        "tfidf = TfidfVectorizer()"
      ],
      "metadata": {
        "id": "gJ3LZ8y8I-So"
      },
      "execution_count": 94,
      "outputs": []
    },
    {
      "cell_type": "markdown",
      "source": [
        "Necesitamos crear las clases que vamos a usar el preprocesamiento de textos"
      ],
      "metadata": {
        "id": "YCG4FtIW66QV"
      }
    },
    {
      "cell_type": "code",
      "source": [
        "import spacy\n",
        "\n",
        "class ToDataFrame(BaseEstimator, TransformerMixin):\n",
        "    def __init__(self, file_path=None):\n",
        "        self.file_path = file_path\n",
        "\n",
        "    def fit(self, X=None, y=None):\n",
        "        return self\n",
        "\n",
        "    def transform(self, X=None, y=None):\n",
        "        if isinstance(self.file_path, pd.DataFrame):\n",
        "            return self.file_path\n",
        "\n",
        "        if not self.file_path:\n",
        "            raise ValueError(\"No file path provided for ToDataFrame transformer.\")\n",
        "\n",
        "        try:\n",
        "            if self.file_path.endswith(\".csv\"):\n",
        "                dataframe = pd.read_csv(self.file_path)\n",
        "                print(\"Data read as CSV\")\n",
        "                return dataframe\n",
        "            elif self.file_path.endswith(\".xlsx\"):\n",
        "                dataframe = pd.read_excel(self.file_path)\n",
        "                print(\"Data read as Excel\")\n",
        "                return dataframe\n",
        "            elif self.file_path.endswith(\".json\"):\n",
        "                dataframe = pd.read_json(self.file_path)\n",
        "                print(\"Data read as JSON\")\n",
        "                return dataframe\n",
        "            else:\n",
        "                raise ValueError(\"Unsupported file format. Please provide a CSV, Excel, or JSON file.\")\n",
        "        except Exception as e:\n",
        "            raise ValueError(f\"Failed to read file: {e}\")\n",
        "\n",
        "\n",
        "class ProcesandoTexto(BaseEstimator, TransformerMixin):\n",
        "\n",
        "    nlp = spacy.load(\"es_core_news_md\")\n",
        "    def __init__(self, column):\n",
        "        self.column = column\n",
        "\n",
        "    def fit(self, Z, y=None):\n",
        "        return self\n",
        "\n",
        "    def transform(self, Z):\n",
        "        if Z is None or not isinstance(Z, pd.DataFrame):\n",
        "            raise ValueError(\"Input data must be a pandas DataFrame.\")\n",
        "        if self.column not in Z.columns:\n",
        "            raise ValueError(f\"Column '{self.column}' not found in DataFrame.\")\n",
        "\n",
        "        print(\"procesando\")\n",
        "        ZCopy = Z.copy()\n",
        "        ZCopy['procesado'] = Z[self.column].apply(lambda x: self.nlp(x))\n",
        "        return ZCopy\n",
        "\n",
        "class Tokenizacion(BaseEstimator, TransformerMixin):\n",
        "    def __init__(self, column):\n",
        "        self.column = column\n",
        "\n",
        "    def fit(self, Z, y=None):\n",
        "        return self\n",
        "\n",
        "    def transform(self, Z):\n",
        "        print(\"tokenizando\")\n",
        "        Z['tokens'] = Z[self.column].apply(lambda doc: [token.text for token in doc])\n",
        "        return Z\n",
        "\n",
        "class Lematizacion(BaseEstimator, TransformerMixin):\n",
        "    def __init__(self, column):\n",
        "        self.column = column\n",
        "\n",
        "    def fit(self, Z, y=None):\n",
        "        return self\n",
        "\n",
        "    def transform(self, Z):\n",
        "        print(\"lematizando\")\n",
        "        Z['lemmas'] = Z[self.column].apply(lambda doc: [token.lemma_ for token in doc])\n",
        "        return Z\n",
        "\n",
        "class BorrarStopWord(BaseEstimator, TransformerMixin):\n",
        "    def __init__(self, column):\n",
        "        self.column = column\n",
        "\n",
        "    def fit(self, Z, y=None):\n",
        "        return self\n",
        "\n",
        "    def transform(self, Z):\n",
        "        print(\"stopwords\")\n",
        "        Z['lemmas_sin_stopwords'] = Z[self.column].apply(lambda doc: [token.lemma_ for token in doc if not token.is_stop])\n",
        "        return Z\n",
        "\n",
        "class FiltrarCaracteresEspeciales(BaseEstimator, TransformerMixin):\n",
        "    def __init__(self, column):\n",
        "        self.column = column\n",
        "\n",
        "    def fit(self, Z, y=None):\n",
        "        return self\n",
        "\n",
        "    def transform(self, Z):\n",
        "        print(\"lemmas limpios\")\n",
        "        Z['lemmas_limpios'] = Z[self.column].apply(lambda lemmas: [lemma for lemma in lemmas if lemma.isalpha()])\n",
        "        return Z\n",
        "\n",
        "class TextoFinal(BaseEstimator, TransformerMixin):\n",
        "    def __init__(self, column):\n",
        "        self.column = column\n",
        "\n",
        "    def fit(self, Z, y=None):\n",
        "        return self\n",
        "\n",
        "    def transform(self, Z):\n",
        "        print(\"texto final\")\n",
        "        Z['texto_preprocesado'] = Z[self.column].apply(lambda lemmas: ' '.join(lemmas))\n",
        "        return Z\n",
        "\n",
        "\n",
        "class Predicciones(BaseEstimator, TransformerMixin):\n",
        "    def __init__(self, model, vectorizer):\n",
        "        self.model = model\n",
        "        self.vectorizer = vectorizer\n",
        "\n",
        "    def fit(self, Z, y=None):\n",
        "        return self\n",
        "\n",
        "    def predict(self, Z):\n",
        "        X = self.vectorizer.fit_transform(Z['texto_preprocesado']).toarray()\n",
        "        predictions = self.model.predict(X)\n",
        "\n",
        "\n",
        "\n",
        "        Z_copy = Z.copy()\n",
        "\n",
        "        Z_copy['labels'] = predictions\n",
        "        print(\"Predicciones añadidas\")\n",
        "        Z_copy.drop(columns=['texto_preprocesado', 'procesado', 'tokens', 'lemmas', 'lemmas_sin_stopwords', 'lemmas_limpios'], inplace=True)\n",
        "\n",
        "        return Z_copy\n",
        "\n"
      ],
      "metadata": {
        "id": "dKRMsBav7FNP"
      },
      "execution_count": 95,
      "outputs": []
    },
    {
      "cell_type": "code",
      "source": [
        "file_path = \"Datos de prueba_proyecto.xlsx\"  # Toca cambiar el path_file dependiendo de donde este el archivo\n",
        "to_dataframe_transformer = ToDataFrame(file_path=file_path)\n",
        "loaded_vectorizer = joblib.load('tfidf_vectorizer.pkl')\n",
        "loaded_model = joblib.load('model.pkl')\n",
        "\n",
        "pipeline = Pipeline([(\"crear_dataframe\", to_dataframe_transformer),\n",
        "         (\"procesamiento_texto\", ProcesandoTexto(column = \"Textos_espanol\")),\n",
        "         (\"tokenizacion\", Tokenizacion(column = 'procesado')),\n",
        "         (\"lematizacion\", Lematizacion(column = 'procesado')),\n",
        "         (\"eliminar_stopwords\", BorrarStopWord(column='procesado')),\n",
        "         (\"eliminacion_no_alfabetico\", FiltrarCaracteresEspeciales(column='lemmas_sin_stopwords')),\n",
        "         (\"texto_final\", TextoFinal(column='lemmas_limpios')),\n",
        "         (\"classifier\", Predicciones(model = loaded_model, vectorizer=loaded_vectorizer))])\n",
        "\n",
        "Z= pipeline.predict([])\n",
        "Z.to_csv(\"predicciones.csv\", index=False, sep=\";\", encoding=\"utf-8-sig\")\n",
        "print(\"Archivo generado: predicciones.csv\")"
      ],
      "metadata": {
        "colab": {
          "base_uri": "https://localhost:8080/"
        },
        "id": "VXplUgnZBEAy",
        "outputId": "7aee689a-966a-49c2-df7f-26d24c66c192"
      },
      "execution_count": 96,
      "outputs": [
        {
          "output_type": "stream",
          "name": "stdout",
          "text": [
            "Data read as Excel\n",
            "procesando\n",
            "tokenizando\n",
            "lematizando\n",
            "stopwords\n",
            "lemmas limpios\n",
            "texto final\n",
            "Predicciones añadidas\n",
            "Archivo generado con separador ';': predicciones.csv\n"
          ]
        },
        {
          "output_type": "stream",
          "name": "stderr",
          "text": [
            "/usr/local/lib/python3.12/dist-packages/sklearn/pipeline.py:62: FutureWarning: This Pipeline instance is not fitted yet. Call 'fit' with appropriate arguments before using other methods such as transform, predict, etc. This will raise an error in 1.8 instead of the current warning.\n",
            "  warnings.warn(\n"
          ]
        }
      ]
    }
  ],
  "metadata": {
    "kernelspec": {
      "display_name": "Python 3 (ipykernel)",
      "language": "python",
      "name": "python3"
    },
    "language_info": {
      "codemirror_mode": {
        "name": "ipython",
        "version": 3
      },
      "file_extension": ".py",
      "mimetype": "text/x-python",
      "name": "python",
      "nbconvert_exporter": "python",
      "pygments_lexer": "ipython3",
      "version": "3.11.5"
    },
    "colab": {
      "provenance": []
    }
  },
  "nbformat": 4,
  "nbformat_minor": 0
}